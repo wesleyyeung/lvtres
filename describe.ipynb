{
 "cells": [
  {
   "cell_type": "code",
   "execution_count": 1,
   "metadata": {},
   "outputs": [],
   "source": [
    "from IPython.core.display import HTML\n",
    "import pandas as pd\n",
    "import numpy as np\n",
    "from tableone_modded.tableone import TableOne\n",
    "from utils import *"
   ]
  },
  {
   "cell_type": "code",
   "execution_count": 2,
   "metadata": {},
   "outputs": [
    {
     "name": "stderr",
     "output_type": "stream",
     "text": [
      "C:\\Users\\Wesley\\Documents\\NUH Research\\LV thrombus\\utils.py:87: SettingWithCopyWarning: \n",
      "A value is trying to be set on a copy of a slice from a DataFrame.\n",
      "Try using .loc[row_indexer,col_indexer] = value instead\n",
      "\n",
      "See the caveats in the documentation: https://pandas.pydata.org/pandas-docs/stable/user_guide/indexing.html#returning-a-view-versus-a-copy\n",
      "  df['tropi'] = df['tropi'].replace({999.:np.nan})\n",
      "C:\\Users\\Wesley\\Documents\\NUH Research\\LV thrombus\\utils.py:88: SettingWithCopyWarning: \n",
      "A value is trying to be set on a copy of a slice from a DataFrame.\n",
      "Try using .loc[row_indexer,col_indexer] = value instead\n",
      "\n",
      "See the caveats in the documentation: https://pandas.pydata.org/pandas-docs/stable/user_guide/indexing.html#returning-a-view-versus-a-copy\n",
      "  df['stenttype'] = df['stenttype'].replace({999.0:'4.0'})\n",
      "C:\\Users\\Wesley\\Documents\\NUH Research\\LV thrombus\\utils.py:118: SettingWithCopyWarning: \n",
      "A value is trying to be set on a copy of a slice from a DataFrame.\n",
      "Try using .loc[row_indexer,col_indexer] = value instead\n",
      "\n",
      "See the caveats in the documentation: https://pandas.pydata.org/pandas-docs/stable/user_guide/indexing.html#returning-a-view-versus-a-copy\n",
      "  df[var] = series\n"
     ]
    },
    {
     "name": "stdout",
     "output_type": "stream",
     "text": [
      "Cohort Size: 289\n",
      "Processing dataset including patients who died...\n",
      "No anticoagulation: 14\n",
      "Unknown outcome: 31\n",
      "Final cohort size:244\n",
      "\n"
     ]
    },
    {
     "name": "stderr",
     "output_type": "stream",
     "text": [
      "C:\\Users\\Wesley\\Documents\\NUH Research\\LV thrombus\\utils.py:345: SettingWithCopyWarning: \n",
      "A value is trying to be set on a copy of a slice from a DataFrame.\n",
      "Try using .loc[row_indexer,col_indexer] = value instead\n",
      "\n",
      "See the caveats in the documentation: https://pandas.pydata.org/pandas-docs/stable/user_guide/indexing.html#returning-a-view-versus-a-copy\n",
      "  combined['Peak Troponin I, ng/dL'] = combined['Peak Troponin I, ng/dL'].replace({999.:np.nan})\n",
      "C:\\Users\\Wesley\\Documents\\NUH Research\\LV thrombus\\utils.py:346: SettingWithCopyWarning: \n",
      "A value is trying to be set on a copy of a slice from a DataFrame\n",
      "\n",
      "See the caveats in the documentation: https://pandas.pydata.org/pandas-docs/stable/user_guide/indexing.html#returning-a-view-versus-a-copy\n",
      "  combined['lvtrecurrence'][~combined['lvtrecurrence'].isin(['0.0','1.0','2.0'])] = np.nan\n",
      "C:\\Users\\Wesley\\Anaconda3\\envs\\lv_thrombus\\lib\\site-packages\\pandas\\core\\generic.py:8767: SettingWithCopyWarning: \n",
      "A value is trying to be set on a copy of a slice from a DataFrame\n",
      "\n",
      "See the caveats in the documentation: https://pandas.pydata.org/pandas-docs/stable/user_guide/indexing.html#returning-a-view-versus-a-copy\n",
      "  self._update_inplace(new_data)\n",
      "C:\\Users\\Wesley\\Documents\\NUH Research\\LV thrombus\\utils.py:347: SettingWithCopyWarning: \n",
      "A value is trying to be set on a copy of a slice from a DataFrame.\n",
      "Try using .loc[row_indexer,col_indexer] = value instead\n",
      "\n",
      "See the caveats in the documentation: https://pandas.pydata.org/pandas-docs/stable/user_guide/indexing.html#returning-a-view-versus-a-copy\n",
      "  combined['lvtstatus'] = combined['lvtrecurrence'].replace({'0.0':'Resolved LVT','1.0':outcome_string,'2.0':outcome_string})\n"
     ]
    }
   ],
   "source": [
    "combined,var_list,cat_features_list,cat_order = get_data()\n",
    "combined,var_list,cat_features_list,cat_order = apply_exclusions(combined, var_list,cat_features_list,cat_order,exclude_death=False)"
   ]
  },
  {
   "cell_type": "code",
   "execution_count": 3,
   "metadata": {},
   "outputs": [
    {
     "name": "stderr",
     "output_type": "stream",
     "text": [
      "C:\\Users\\Wesley\\Documents\\NUH Research\\LV thrombus\\tableone_modded\\tableone.py:762: UserWarning: Chi-squared test for {} may be invalid (expected cell counts are < 5).\n",
      "  \"(expected cell counts are < 5).\".format(v))\n",
      "C:\\Users\\Wesley\\Anaconda3\\envs\\lv_thrombus\\lib\\site-packages\\numpy\\core\\fromnumeric.py:3584: RuntimeWarning: Degrees of freedom <= 0 for slice\n",
      "  **kwargs)\n",
      "C:\\Users\\Wesley\\Anaconda3\\envs\\lv_thrombus\\lib\\site-packages\\numpy\\core\\_methods.py:186: RuntimeWarning: invalid value encountered in true_divide\n",
      "  arrmean, rcount, out=arrmean, casting='unsafe', subok=False)\n",
      "C:\\Users\\Wesley\\Anaconda3\\envs\\lv_thrombus\\lib\\site-packages\\numpy\\core\\_methods.py:209: RuntimeWarning: invalid value encountered in double_scalars\n",
      "  ret = ret.dtype.type(ret / rcount)\n",
      "C:\\Users\\Wesley\\Anaconda3\\envs\\lv_thrombus\\lib\\site-packages\\numpy\\lib\\nanfunctions.py:1667: RuntimeWarning: Degrees of freedom <= 0 for slice.\n",
      "  keepdims=keepdims)\n",
      "C:\\Users\\Wesley\\Anaconda3\\envs\\lv_thrombus\\lib\\site-packages\\numpy\\core\\fromnumeric.py:3335: RuntimeWarning: Mean of empty slice.\n",
      "  out=out, **kwargs)\n",
      "C:\\Users\\Wesley\\Anaconda3\\envs\\lv_thrombus\\lib\\site-packages\\numpy\\core\\_methods.py:161: RuntimeWarning: invalid value encountered in double_scalars\n",
      "  ret = ret.dtype.type(ret / rcount)\n",
      "C:\\Users\\Wesley\\Anaconda3\\envs\\lv_thrombus\\lib\\site-packages\\numpy\\lib\\nanfunctions.py:1368: RuntimeWarning: Mean of empty slice\n",
      "  return np.nanmean(a, axis, out=out, keepdims=keepdims)\n",
      "C:\\Users\\Wesley\\Documents\\NUH Research\\LV thrombus\\tableone_modded\\tableone.py:475: RuntimeWarning: Mean of empty slice\n",
      "  return f.format(np.nanmean(x.values),\n",
      "C:\\Users\\Wesley\\Documents\\NUH Research\\LV thrombus\\tableone_modded\\tableone.py:912: UserWarning: Order value not found: Wall Motion Abnormality: ['None']\n",
      "  rm_var))\n",
      "C:\\Users\\Wesley\\Documents\\NUH Research\\LV thrombus\\tableone_modded\\tableone.py:912: UserWarning: Order value not found: Second Antiplatelet Agent: ['Ticlopidine']\n",
      "  rm_var))\n",
      "C:\\Users\\Wesley\\Documents\\NUH Research\\LV thrombus\\tableone_modded\\tableone.py:912: UserWarning: Order value not found: Type Of Stent Used: ['None']\n",
      "  rm_var))\n",
      "C:\\Users\\Wesley\\Documents\\NUH Research\\LV thrombus\\tableone_modded\\tableone.py:903: UserWarning: Order variable not found: Anticoagulation After LV Thrombus Diagnosis\n",
      "  warnings.warn('Order variable not found: {}'.format(k))\n"
     ]
    },
    {
     "data": {
      "text/html": [
       "<table>\n",
       "<thead>\n",
       "<tr><th>                                                        </th><th>                                                     </th><th>Count  </th><th>Resolved LVT     </th><th>Unresolved LVT/Death  </th><th>P-Value  </th><th>Test                                     </th></tr>\n",
       "</thead>\n",
       "<tbody>\n",
       "<tr><td>n                                                       </td><td>                                                     </td><td>       </td><td>156              </td><td>88                    </td><td>         </td><td>                                         </td></tr>\n",
       "<tr><td>Age, years                                              </td><td>                                                     </td><td>244    </td><td>58.4 (12.1)      </td><td>61.5 (14.3)           </td><td>0.090    </td><td>Two Sample T-test                        </td></tr>\n",
       "<tr><td>Sex                                                     </td><td>Male                                                 </td><td>244    </td><td>134 (85.9)       </td><td>78 (88.6)             </td><td>0.681    </td><td>Chi-squared                              </td></tr>\n",
       "<tr><td>                                                        </td><td>Female                                               </td><td>       </td><td>22 (14.1)        </td><td>10 (11.4)             </td><td>         </td><td>                                         </td></tr>\n",
       "<tr><td>Height, cm                                              </td><td>                                                     </td><td>190    </td><td>1.7 (0.1)        </td><td>1.6 (0.1)             </td><td>0.168    </td><td>Two Sample T-test                        </td></tr>\n",
       "<tr><td>Weight, kg                                              </td><td>                                                     </td><td>220    </td><td>70.4 (17.5)      </td><td>66.0 (14.1)           </td><td>0.045    </td><td>Two Sample T-test                        </td></tr>\n",
       "<tr><td>Ethnicity                                               </td><td>Chinese                                              </td><td>244    </td><td>90 (57.7)        </td><td>37 (42.0)             </td><td>0.121    </td><td>Chi-squared (warning: expected count < 5)</td></tr>\n",
       "<tr><td>                                                        </td><td>Malay                                                </td><td>       </td><td>42 (26.9)        </td><td>34 (38.6)             </td><td>         </td><td>                                         </td></tr>\n",
       "<tr><td>                                                        </td><td>Indian                                               </td><td>       </td><td>17 (10.9)        </td><td>13 (14.8)             </td><td>         </td><td>                                         </td></tr>\n",
       "<tr><td>                                                        </td><td>Others                                               </td><td>       </td><td>7 (4.5)          </td><td>4 (4.5)               </td><td>         </td><td>                                         </td></tr>\n",
       "<tr><td>Smoking                                                 </td><td>No                                                   </td><td>141    </td><td>65 (82.3)        </td><td>50 (80.6)             </td><td>0.976    </td><td>Chi-squared                              </td></tr>\n",
       "<tr><td>                                                        </td><td>Yes                                                  </td><td>       </td><td>14 (17.7)        </td><td>12 (19.4)             </td><td>         </td><td>                                         </td></tr>\n",
       "<tr><td>Alcohol Use                                             </td><td>No Alcohol Use                                       </td><td>244    </td><td>152 (97.4)       </td><td>84 (95.5)             </td><td>0.166    </td><td>Chi-squared (warning: expected count < 5)</td></tr>\n",
       "<tr><td>                                                        </td><td>Previous Alcohol Use                                 </td><td>       </td><td>2 (1.3)          </td><td>                      </td><td>         </td><td>                                         </td></tr>\n",
       "<tr><td>                                                        </td><td>Current Alcohol Use                                  </td><td>       </td><td>2 (1.3)          </td><td>4 (4.5)               </td><td>         </td><td>                                         </td></tr>\n",
       "<tr><td>Atrial Fibrillation                                     </td><td>No                                                   </td><td>244    </td><td>154 (98.7)       </td><td>85 (96.6)             </td><td>0.354    </td><td>Fisher's exact                           </td></tr>\n",
       "<tr><td>                                                        </td><td>Yes                                                  </td><td>       </td><td>2 (1.3)          </td><td>3 (3.4)               </td><td>         </td><td>                                         </td></tr>\n",
       "<tr><td>Existing Anticoagulation Before Diagnosis Of LV Thrombus</td><td>No Existing Anticoagulation                          </td><td>244    </td><td>154 (98.7)       </td><td>86 (97.7)             </td><td>0.409    </td><td>Chi-squared (warning: expected count < 5)</td></tr>\n",
       "<tr><td>                                                        </td><td>Warfarin                                             </td><td>       </td><td>1 (0.6)          </td><td>2 (2.3)               </td><td>         </td><td>                                         </td></tr>\n",
       "<tr><td>                                                        </td><td>Novel Oral Anticoagulant                             </td><td>       </td><td>1 (0.6)          </td><td>                      </td><td>         </td><td>                                         </td></tr>\n",
       "<tr><td>Hypertension                                            </td><td>No                                                   </td><td>244    </td><td>87 (55.8)        </td><td>33 (37.5)             </td><td>0.009    </td><td>Chi-squared                              </td></tr>\n",
       "<tr><td>                                                        </td><td>Yes                                                  </td><td>       </td><td>69 (44.2)        </td><td>55 (62.5)             </td><td>         </td><td>                                         </td></tr>\n",
       "<tr><td>Hyperlipidemia                                          </td><td>No                                                   </td><td>244    </td><td>70 (44.9)        </td><td>40 (45.5)             </td><td>0.963    </td><td>Chi-squared                              </td></tr>\n",
       "<tr><td>                                                        </td><td>Yes                                                  </td><td>       </td><td>86 (55.1)        </td><td>48 (54.5)             </td><td>         </td><td>                                         </td></tr>\n",
       "<tr><td>Diabetes Mellitus                                       </td><td>No Diabetes                                          </td><td>244    </td><td>83 (53.2)        </td><td>44 (50.0)             </td><td>0.765    </td><td>Chi-squared (warning: expected count < 5)</td></tr>\n",
       "<tr><td>                                                        </td><td>Impaired Fasting Glucose                             </td><td>       </td><td>6 (3.8)          </td><td>5 (5.7)               </td><td>         </td><td>                                         </td></tr>\n",
       "<tr><td>                                                        </td><td>Impaired Glucose Tolerance                           </td><td>       </td><td>1 (0.6)          </td><td>                      </td><td>         </td><td>                                         </td></tr>\n",
       "<tr><td>                                                        </td><td>Type 2 Diabetes Mellitus                             </td><td>       </td><td>66 (42.3)        </td><td>39 (44.3)             </td><td>         </td><td>                                         </td></tr>\n",
       "<tr><td>Chronic Kidney Disease                                  </td><td>No Kidney Disease                                    </td><td>244    </td><td>139 (89.1)       </td><td>68 (77.3)             </td><td>0.059    </td><td>Chi-squared (warning: expected count < 5)</td></tr>\n",
       "<tr><td>                                                        </td><td>Chronic Kidney Disease                               </td><td>       </td><td>15 (9.6)         </td><td>19 (21.6)             </td><td>         </td><td>                                         </td></tr>\n",
       "<tr><td>                                                        </td><td>End Stage Renal Failure On Dialysis                  </td><td>       </td><td>1 (0.6)          </td><td>1 (1.1)               </td><td>         </td><td>                                         </td></tr>\n",
       "<tr><td>                                                        </td><td>Status Post Renal Transplant                         </td><td>       </td><td>1 (0.6)          </td><td>                      </td><td>         </td><td>                                         </td></tr>\n",
       "<tr><td>Chronic Liver Disease                                   </td><td>No                                                   </td><td>244    </td><td>155 (99.4)       </td><td>88 (100.0)            </td><td>1.000    </td><td>Fisher's exact                           </td></tr>\n",
       "<tr><td>                                                        </td><td>Yes                                                  </td><td>       </td><td>1 (0.6)          </td><td>                      </td><td>         </td><td>                                         </td></tr>\n",
       "<tr><td>Peripheral Vascular Disease                             </td><td>No Peripheral Vascular Disease                       </td><td>244    </td><td>153 (98.1)       </td><td>81 (92.0)             </td><td>0.060    </td><td>Chi-squared (warning: expected count < 5)</td></tr>\n",
       "<tr><td>                                                        </td><td>Intermittent Claudication                            </td><td>       </td><td>3 (1.9)          </td><td>6 (6.8)               </td><td>         </td><td>                                         </td></tr>\n",
       "<tr><td>                                                        </td><td>Critical Limb Ischemia                               </td><td>       </td><td>                 </td><td>1 (1.1)               </td><td>         </td><td>                                         </td></tr>\n",
       "<tr><td>Venous Thromboembolism                                  </td><td>No                                                   </td><td>244    </td><td>155 (99.4)       </td><td>87 (98.9)             </td><td>1.000    </td><td>Fisher's exact                           </td></tr>\n",
       "<tr><td>                                                        </td><td>Yes                                                  </td><td>       </td><td>1 (0.6)          </td><td>1 (1.1)               </td><td>         </td><td>                                         </td></tr>\n",
       "<tr><td>Cerebrovascular Accident                                </td><td>No Cerebrovascular Accident/Transient Ischemia Attack</td><td>244    </td><td>139 (89.1)       </td><td>68 (77.3)             </td><td>0.006    </td><td>Chi-squared (warning: expected count < 5)</td></tr>\n",
       "<tr><td>                                                        </td><td>Transient Ischemic Attack                            </td><td>       </td><td>3 (1.9)          </td><td>                      </td><td>         </td><td>                                         </td></tr>\n",
       "<tr><td>                                                        </td><td>Cerebrovascular Accident                             </td><td>       </td><td>14 (9.0)         </td><td>20 (22.7)             </td><td>         </td><td>                                         </td></tr>\n",
       "<tr><td>Asthma                                                  </td><td>No                                                   </td><td>244    </td><td>152 (97.4)       </td><td>84 (95.5)             </td><td>0.464    </td><td>Fisher's exact                           </td></tr>\n",
       "<tr><td>                                                        </td><td>Yes                                                  </td><td>       </td><td>4 (2.6)          </td><td>4 (4.5)               </td><td>         </td><td>                                         </td></tr>\n",
       "<tr><td>Chronic Obstructive Pulmonary Disease                   </td><td>No                                                   </td><td>244    </td><td>153 (98.1)       </td><td>85 (96.6)             </td><td>0.670    </td><td>Fisher's exact                           </td></tr>\n",
       "<tr><td>                                                        </td><td>Yes                                                  </td><td>       </td><td>3 (1.9)          </td><td>3 (3.4)               </td><td>         </td><td>                                         </td></tr>\n",
       "<tr><td>Malignancy                                              </td><td>No                                                   </td><td>244    </td><td>154 (98.7)       </td><td>86 (97.7)             </td><td>0.621    </td><td>Fisher's exact                           </td></tr>\n",
       "<tr><td>                                                        </td><td>Yes                                                  </td><td>       </td><td>2 (1.3)          </td><td>2 (2.3)               </td><td>         </td><td>                                         </td></tr>\n",
       "<tr><td>Prior Acute Coronary Syndrome                           </td><td>No Previous ACS                                      </td><td>244    </td><td>133 (85.3)       </td><td>66 (75.0)             </td><td>0.266    </td><td>Chi-squared (warning: expected count < 5)</td></tr>\n",
       "<tr><td>                                                        </td><td>Non-STE ACS                                          </td><td>       </td><td>7 (4.5)          </td><td>7 (8.0)               </td><td>         </td><td>                                         </td></tr>\n",
       "<tr><td>                                                        </td><td>STEMI                                                </td><td>       </td><td>13 (8.3)         </td><td>12 (13.6)             </td><td>         </td><td>                                         </td></tr>\n",
       "<tr><td>                                                        </td><td>Other Ischemic Heart Disease                         </td><td>       </td><td>3 (1.9)          </td><td>3 (3.4)               </td><td>         </td><td>                                         </td></tr>\n",
       "<tr><td>Heart Failure                                           </td><td>No                                                   </td><td>244    </td><td>141 (90.4)       </td><td>73 (83.0)             </td><td>0.135    </td><td>Chi-squared                              </td></tr>\n",
       "<tr><td>                                                        </td><td>Yes                                                  </td><td>       </td><td>15 (9.6)         </td><td>15 (17.0)             </td><td>         </td><td>                                         </td></tr>\n",
       "<tr><td>Post-AMI Atrial Fibrillation                            </td><td>No                                                   </td><td>244    </td><td>139 (89.1)       </td><td>76 (86.4)             </td><td>0.668    </td><td>Chi-squared                              </td></tr>\n",
       "<tr><td>                                                        </td><td>Yes                                                  </td><td>       </td><td>17 (10.9)        </td><td>12 (13.6)             </td><td>         </td><td>                                         </td></tr>\n",
       "<tr><td>Post-AMI Cardiogenic Shock                              </td><td>No                                                   </td><td>244    </td><td>147 (94.2)       </td><td>77 (87.5)             </td><td>0.110    </td><td>Chi-squared                              </td></tr>\n",
       "<tr><td>                                                        </td><td>Yes                                                  </td><td>       </td><td>9 (5.8)          </td><td>11 (12.5)             </td><td>         </td><td>                                         </td></tr>\n",
       "<tr><td>Cardiopulmonary Resuscitation                           </td><td>No                                                   </td><td>244    </td><td>153 (98.1)       </td><td>82 (93.2)             </td><td>0.075    </td><td>Fisher's exact                           </td></tr>\n",
       "<tr><td>                                                        </td><td>Yes                                                  </td><td>       </td><td>3 (1.9)          </td><td>6 (6.8)               </td><td>         </td><td>                                         </td></tr>\n",
       "<tr><td>Peak Troponin I, ng/dL                                  </td><td>                                                     </td><td>180    </td><td>44226.7 (35709.9)</td><td>32279.2 (36552.3)     </td><td>0.036    </td><td>Two Sample T-test                        </td></tr>\n",
       "<tr><td>Hemoglobin, g/dL                                        </td><td>                                                     </td><td>233    </td><td>14.4 (1.8)       </td><td>13.9 (2.3)            </td><td>0.127    </td><td>Two Sample T-test                        </td></tr>\n",
       "<tr><td>White Blood Cell Count, 10^9/L                          </td><td>                                                     </td><td>233    </td><td>12.1 (4.2)       </td><td>13.1 (5.0)            </td><td>0.123    </td><td>Two Sample T-test                        </td></tr>\n",
       "<tr><td>Lymphocyte Count, 10^9/L                                </td><td>                                                     </td><td>185    </td><td>2.5 (1.3)        </td><td>2.0 (1.3)             </td><td>0.025    </td><td>Two Sample T-test                        </td></tr>\n",
       "<tr><td>Neutrophil Count, 10^9/L                                </td><td>                                                     </td><td>183    </td><td>8.6 (3.7)        </td><td>9.9 (4.3)             </td><td>0.036    </td><td>Two Sample T-test                        </td></tr>\n",
       "<tr><td>Platelet Count, 10^9/dL                                 </td><td>                                                     </td><td>233    </td><td>255.2 (75.1)     </td><td>261.6 (100.9)         </td><td>0.609    </td><td>Two Sample T-test                        </td></tr>\n",
       "<tr><td>Prothrombin Time, seconds                               </td><td>                                                     </td><td>227    </td><td>13.6 (1.7)       </td><td>14.7 (3.1)            </td><td>0.006    </td><td>Two Sample T-test                        </td></tr>\n",
       "<tr><td>International Normalized Ratio                          </td><td>                                                     </td><td>228    </td><td>1.1 (0.2)        </td><td>1.2 (0.4)             </td><td>0.009    </td><td>Two Sample T-test                        </td></tr>\n",
       "<tr><td>Activated Partial Thromboplastin Time                   </td><td>                                                     </td><td>200    </td><td>33.7 (20.4)      </td><td>38.7 (22.0)           </td><td>0.129    </td><td>Two Sample T-test                        </td></tr>\n",
       "<tr><td>Aspartate Aminotransferase, U/L                         </td><td>                                                     </td><td>124    </td><td>154.7 (236.4)    </td><td>301.5 (637.5)         </td><td>0.105    </td><td>Two Sample T-test                        </td></tr>\n",
       "<tr><td>Alanine Aminotransferase, U/L                           </td><td>                                                     </td><td>124    </td><td>78.7 (137.3)     </td><td>250.8 (645.3)         </td><td>0.053    </td><td>Two Sample T-test                        </td></tr>\n",
       "<tr><td>Alkaline Phosphatase, U/L                               </td><td>                                                     </td><td>120    </td><td>81.7 (31.7)      </td><td>105.0 (65.3)          </td><td>0.017    </td><td>Two Sample T-test                        </td></tr>\n",
       "<tr><td>Creatinine, mmol/L                                      </td><td>                                                     </td><td>239    </td><td>96.5 (68.9)      </td><td>136.0 (135.9)         </td><td>0.013    </td><td>Two Sample T-test                        </td></tr>\n",
       "<tr><td>ACS Type                                                </td><td>NSTEMI                                               </td><td>244    </td><td>31 (19.9)        </td><td>32 (36.4)             </td><td>0.007    </td><td>Chi-squared                              </td></tr>\n",
       "<tr><td>                                                        </td><td>STEMI                                                </td><td>       </td><td>125 (80.1)       </td><td>56 (63.6)             </td><td>         </td><td>                                         </td></tr>\n",
       "<tr><td>Visual Ejection Fraction, %                             </td><td>                                                     </td><td>244    </td><td>35.4 (9.7)       </td><td>29.3 (10.8)           </td><td><0.001   </td><td>Two Sample T-test                        </td></tr>\n",
       "<tr><td>LVIDd, mm                                               </td><td>                                                     </td><td>244    </td><td>53.7 (7.8)       </td><td>54.6 (9.7)            </td><td>0.429    </td><td>Two Sample T-test                        </td></tr>\n",
       "<tr><td>LVIDs, mm                                               </td><td>                                                     </td><td>244    </td><td>42.1 (9.3)       </td><td>45.0 (10.7)           </td><td>0.036    </td><td>Two Sample T-test                        </td></tr>\n",
       "<tr><td>LVOT, mm                                                </td><td>                                                     </td><td>244    </td><td>21.1 (1.6)       </td><td>20.8 (1.5)            </td><td>0.077    </td><td>Two Sample T-test                        </td></tr>\n",
       "<tr><td>Wall Motion Abnormality                                 </td><td>Regional                                             </td><td>244    </td><td>98 (62.8)        </td><td>29 (33.0)             </td><td><0.001   </td><td>Chi-squared                              </td></tr>\n",
       "<tr><td>                                                        </td><td>Global                                               </td><td>       </td><td>58 (37.2)        </td><td>59 (67.0)             </td><td>         </td><td>                                         </td></tr>\n",
       "<tr><td>Left Ventricular Aneurysm                               </td><td>No                                                   </td><td>244    </td><td>139 (89.1)       </td><td>71 (80.7)             </td><td>0.103    </td><td>Chi-squared                              </td></tr>\n",
       "<tr><td>                                                        </td><td>Yes                                                  </td><td>       </td><td>17 (10.9)        </td><td>17 (19.3)             </td><td>         </td><td>                                         </td></tr>\n",
       "<tr><td>LV Thrombus Mobility                                    </td><td>No                                                   </td><td>244    </td><td>152 (97.4)       </td><td>86 (97.7)             </td><td>1.000    </td><td>Fisher's exact                           </td></tr>\n",
       "<tr><td>                                                        </td><td>Yes                                                  </td><td>       </td><td>4 (2.6)          </td><td>2 (2.3)               </td><td>         </td><td>                                         </td></tr>\n",
       "<tr><td>Protrusion                                              </td><td>No                                                   </td><td>244    </td><td>144 (92.3)       </td><td>77 (87.5)             </td><td>0.314    </td><td>Chi-squared                              </td></tr>\n",
       "<tr><td>                                                        </td><td>Yes                                                  </td><td>       </td><td>12 (7.7)         </td><td>11 (12.5)             </td><td>         </td><td>                                         </td></tr>\n",
       "<tr><td>LV Thrombus Maximal Diameter, cm                        </td><td>                                                     </td><td>160    </td><td>1.6 (0.7)        </td><td>1.8 (0.8)             </td><td>0.057    </td><td>Two Sample T-test                        </td></tr>\n",
       "<tr><td>Aspirin Use                                             </td><td>No                                                   </td><td>227    </td><td>16 (10.3)        </td><td>10 (14.1)             </td><td>0.539    </td><td>Chi-squared                              </td></tr>\n",
       "<tr><td>                                                        </td><td>Yes                                                  </td><td>       </td><td>140 (89.7)       </td><td>61 (85.9)             </td><td>         </td><td>                                         </td></tr>\n",
       "<tr><td>Second Antiplatelet Agent                               </td><td>None                                                 </td><td>227    </td><td>22 (14.1)        </td><td>30 (42.3)             </td><td><0.001   </td><td>Chi-squared (warning: expected count < 5)</td></tr>\n",
       "<tr><td>                                                        </td><td>Clopidogrel                                          </td><td>       </td><td>126 (80.8)       </td><td>41 (57.7)             </td><td>         </td><td>                                         </td></tr>\n",
       "<tr><td>                                                        </td><td>Ticagrelor                                           </td><td>       </td><td>2 (1.3)          </td><td>                      </td><td>         </td><td>                                         </td></tr>\n",
       "<tr><td>                                                        </td><td>Prasugrel                                            </td><td>       </td><td>6 (3.8)          </td><td>                      </td><td>         </td><td>                                         </td></tr>\n",
       "<tr><td>Coronary Artery Disease                                 </td><td>No Vessel Disease                                    </td><td>205    </td><td>1 (0.7)          </td><td>1 (1.6)               </td><td>0.181    </td><td>Chi-squared (warning: expected count < 5)</td></tr>\n",
       "<tr><td>                                                        </td><td>Single Vessel Disease                                </td><td>       </td><td>57 (40.1)        </td><td>19 (30.2)             </td><td>         </td><td>                                         </td></tr>\n",
       "<tr><td>                                                        </td><td>Double Vessel Disease                                </td><td>       </td><td>40 (28.2)        </td><td>14 (22.2)             </td><td>         </td><td>                                         </td></tr>\n",
       "<tr><td>                                                        </td><td>Triple Vessel Disease                                </td><td>       </td><td>44 (31.0)        </td><td>29 (46.0)             </td><td>         </td><td>                                         </td></tr>\n",
       "<tr><td>Revascularization Procedure                             </td><td>No Revascularization                                 </td><td>244    </td><td>25 (16.0)        </td><td>45 (51.1)             </td><td><0.001   </td><td>Chi-squared (warning: expected count < 5)</td></tr>\n",
       "<tr><td>                                                        </td><td>Percutaneous Coronary Intervention                   </td><td>       </td><td>121 (77.6)       </td><td>39 (44.3)             </td><td>         </td><td>                                         </td></tr>\n",
       "<tr><td>                                                        </td><td>Coronary Artery Bypass Graft                         </td><td>       </td><td>9 (5.8)          </td><td>4 (4.5)               </td><td>         </td><td>                                         </td></tr>\n",
       "<tr><td>                                                        </td><td>Thrombolysis                                         </td><td>       </td><td>1 (0.6)          </td><td>                      </td><td>         </td><td>                                         </td></tr>\n",
       "<tr><td>Type Of Stent Used                                      </td><td>POBA                                                 </td><td>162    </td><td>11 (9.0)         </td><td>6 (15.0)              </td><td>0.104    </td><td>Chi-squared (warning: expected count < 5)</td></tr>\n",
       "<tr><td>                                                        </td><td>Drug-eluting Stent                                   </td><td>       </td><td>66 (54.1)        </td><td>27 (67.5)             </td><td>         </td><td>                                         </td></tr>\n",
       "<tr><td>                                                        </td><td>Bare Metal Stent                                     </td><td>       </td><td>39 (32.0)        </td><td>7 (17.5)              </td><td>         </td><td>                                         </td></tr>\n",
       "<tr><td>                                                        </td><td>Bioabsorbable Vascular Stent                         </td><td>       </td><td>6 (4.9)          </td><td>                      </td><td>         </td><td>                                         </td></tr>\n",
       "<tr><td>Followup Duration, days                                 </td><td>                                                     </td><td>244    </td><td>1431.0 (1070.9)  </td><td>672.8 (977.5)         </td><td><0.001   </td><td>Two Sample T-test                        </td></tr>\n",
       "</tbody>\n",
       "</table>"
      ],
      "text/plain": [
       "<IPython.core.display.HTML object>"
      ]
     },
     "execution_count": 3,
     "metadata": {},
     "output_type": "execute_result"
    }
   ],
   "source": [
    "mytable = TableOne(combined, var_list, categorical=cat_features_list, groupby='lvtstatus',order=cat_order,pval=True,remarks=False,reverse_missing=True)\n",
    "HTML(mytable.tabulate(tablefmt=\"html\"))"
   ]
  },
  {
   "cell_type": "code",
   "execution_count": 4,
   "metadata": {},
   "outputs": [],
   "source": [
    "mytable.to_excel('tableone.xlsx')"
   ]
  },
  {
   "cell_type": "code",
   "execution_count": 5,
   "metadata": {},
   "outputs": [
    {
     "name": "stdout",
     "output_type": "stream",
     "text": [
      "All Cases\n",
      "Median: 807.0\n",
      "IQR: 264.75-1746.25\n",
      "Resolved LVT\n",
      "Median: 1049.0\n",
      "IQR: 598.5-2163.5\n",
      "Unresolved LVT/Death\n",
      "Median: 196.5\n",
      "IQR: 15.75-908.25\n"
     ]
    }
   ],
   "source": [
    "for status in ['All Cases','Resolved LVT','Unresolved LVT/Death']:\n",
    "    if status == 'All Cases':\n",
    "        series = combined['Followup Duration, days']\n",
    "    else:\n",
    "        series = combined['Followup Duration, days'][combined['lvtstatus'] == status]\n",
    "    print(status)\n",
    "    print(f'Median: {series.median()}')\n",
    "    print(f'IQR: {series.quantile(0.25)}-{series.quantile(0.75)}')"
   ]
  },
  {
   "cell_type": "code",
   "execution_count": 6,
   "metadata": {},
   "outputs": [],
   "source": [
    "combined = combined.drop('Followup Duration, days',axis=1)\n",
    "combined['lvtstatus'] = combined['lvtstatus'].replace({'Resolved LVT':0,'Unresolved LVT/Death':1})\n",
    "combined['lvtstatus'].to_csv('processed_data\\\\outcome.csv',index=False)\n",
    "predictors = combined.drop('lvtstatus',axis=1)\n",
    "predictors.to_csv('processed_data\\\\predictors.csv',index=False)\n",
    "pd.Series(cat_features_list).to_csv('processed_data\\\\categorical_features.csv',index=False)\n",
    "pd.Series(list(set(list(predictors)) - set(cat_features_list))).to_csv('processed_data\\\\numeric_features.csv',index=False)"
   ]
  }
 ],
 "metadata": {
  "kernelspec": {
   "display_name": "Python 3",
   "language": "python",
   "name": "python3"
  },
  "language_info": {
   "codemirror_mode": {
    "name": "ipython",
    "version": 3
   },
   "file_extension": ".py",
   "mimetype": "text/x-python",
   "name": "python",
   "nbconvert_exporter": "python",
   "pygments_lexer": "ipython3",
   "version": "3.7.6"
  }
 },
 "nbformat": 4,
 "nbformat_minor": 4
}
