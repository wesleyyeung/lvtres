{
 "cells": [
  {
   "cell_type": "code",
   "execution_count": 1,
   "metadata": {},
   "outputs": [],
   "source": [
    "import pandas as pd"
   ]
  },
  {
   "cell_type": "code",
   "execution_count": 2,
   "metadata": {},
   "outputs": [],
   "source": [
    "nstemi = pd.read_csv('raw_data/nstemi.csv')"
   ]
  },
  {
   "cell_type": "code",
   "execution_count": 3,
   "metadata": {},
   "outputs": [],
   "source": [
    "stemi = pd.read_csv('raw_data/stemi.csv')"
   ]
  },
  {
   "cell_type": "markdown",
   "metadata": {},
   "source": [
    "# Reviewer 1 - Q1\n",
    "\n",
    "How many patients underwent contrast enhanced TTE or cardiac MRI due to poor image quality? \n",
    "\n",
    "Key:\n",
    "-\t0: TTE \n",
    "-\t1: TEE \n",
    "-\t2: CT \n",
    "-\t3: MRI\n",
    "-\t4: Cardiac Ventriculography\n",
    "\n",
    "No data available on contrast enhancement"
   ]
  },
  {
   "cell_type": "code",
   "execution_count": 5,
   "metadata": {},
   "outputs": [
    {
     "data": {
      "text/plain": [
       "0    76\n",
       "2     1\n",
       "1     1\n",
       "Name: InitialScan, dtype: int64"
      ]
     },
     "execution_count": 5,
     "metadata": {},
     "output_type": "execute_result"
    }
   ],
   "source": [
    "nstemi['InitialScan'].value_counts()"
   ]
  },
  {
   "cell_type": "code",
   "execution_count": 6,
   "metadata": {},
   "outputs": [
    {
     "data": {
      "text/plain": [
       "0    208\n",
       "2      3\n",
       "Name: InitialScan, dtype: int64"
      ]
     },
     "execution_count": 6,
     "metadata": {},
     "output_type": "execute_result"
    }
   ],
   "source": [
    "stemi['InitialScan'].value_counts()"
   ]
  },
  {
   "cell_type": "code",
   "execution_count": 8,
   "metadata": {},
   "outputs": [
    {
     "data": {
      "text/plain": [
       "999    46\n",
       "0      30\n",
       "3       2\n",
       "Name: FinalScan, dtype: int64"
      ]
     },
     "execution_count": 8,
     "metadata": {},
     "output_type": "execute_result"
    }
   ],
   "source": [
    "nstemi['FinalScan'].value_counts()"
   ]
  },
  {
   "cell_type": "code",
   "execution_count": 9,
   "metadata": {},
   "outputs": [
    {
     "data": {
      "text/plain": [
       "0      129\n",
       "999     71\n",
       "3       10\n",
       "1        1\n",
       "Name: FinalScan, dtype: int64"
      ]
     },
     "execution_count": 9,
     "metadata": {},
     "output_type": "execute_result"
    }
   ],
   "source": [
    "stemi['FinalScan'].value_counts()"
   ]
  },
  {
   "cell_type": "markdown",
   "metadata": {},
   "source": [
    "NSTEMI:\n",
    "Initial - TTE = 76, TEE = 1, CT = 1\n",
    "Final - TTE = 30, MRI = 2\n",
    "\n",
    "STEMI\n",
    "Initial - TTE = 208, CT = 1\n",
    "Final - TTE = 129, TEE = 1, MRI = 10 \n",
    "\n",
    "Total:\n",
    "Initial - TTE = 284, TEE = 1, CT = 1\n",
    "Final - TTE = 159, TEE = 1, MRI = 12"
   ]
  },
  {
   "cell_type": "code",
   "execution_count": null,
   "metadata": {},
   "outputs": [],
   "source": []
  }
 ],
 "metadata": {
  "kernelspec": {
   "display_name": "Python 3",
   "language": "python",
   "name": "python3"
  },
  "language_info": {
   "codemirror_mode": {
    "name": "ipython",
    "version": 3
   },
   "file_extension": ".py",
   "mimetype": "text/x-python",
   "name": "python",
   "nbconvert_exporter": "python",
   "pygments_lexer": "ipython3",
   "version": "3.7.6"
  }
 },
 "nbformat": 4,
 "nbformat_minor": 4
}
