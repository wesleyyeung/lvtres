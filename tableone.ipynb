{
 "cells": [
  {
   "cell_type": "code",
   "execution_count": 1,
   "metadata": {},
   "outputs": [],
   "source": [
    "from IPython.core.display import HTML\n",
    "import pandas as pd\n",
    "import numpy as np\n",
    "from tableone_modified.tableone import TableOne\n",
    "import warnings\n",
    "warnings.filterwarnings(\"ignore\")\n",
    "from utils import *"
   ]
  },
  {
   "cell_type": "code",
   "execution_count": 2,
   "metadata": {},
   "outputs": [
    {
     "name": "stdout",
     "output_type": "stream",
     "text": [
      "Cohort Size: 289\n",
      "No anticoagulation: 14\n",
      "\n",
      "Breakdown of outcomes:\n",
      "Resolved     156\n",
      "Recurrent     14\n",
      "Name: lvtrecurrence, dtype: int64\n",
      "Died          53\n",
      "Persistent    21\n",
      "Name: statusofdeath, dtype: int64\n",
      "\n",
      "Unknown outcome: 31\n",
      "Final cohort size:244\n",
      "\n"
     ]
    }
   ],
   "source": [
    "combined,var_list,cat_features_list,cat_order = get_data()\n",
    "combined,var_list,cat_features_list,cat_order = apply_exclusions(combined, var_list,cat_features_list,cat_order)"
   ]
  },
  {
   "cell_type": "code",
   "execution_count": 3,
   "metadata": {},
   "outputs": [
    {
     "data": {
      "text/html": [
       "<table>\n",
       "<thead>\n",
       "<tr><th>                                                    </th><th>                     </th><th>Count  </th><th>Resolved LVT     </th><th>Unresolved LVT/Death  </th><th>P-Value  </th><th>Test                                     </th></tr>\n",
       "</thead>\n",
       "<tbody>\n",
       "<tr><td>n                                                   </td><td>                     </td><td>       </td><td>156              </td><td>88                    </td><td>         </td><td>                                         </td></tr>\n",
       "<tr><td>Age, years                                          </td><td>                     </td><td>244    </td><td>58.4 (12.1)      </td><td>61.5 (14.3)           </td><td>0.090    </td><td>Two Sample T-test                        </td></tr>\n",
       "<tr><td>Sex                                                 </td><td>Male                 </td><td>244    </td><td>134 (85.9)       </td><td>78 (88.6)             </td><td>0.681    </td><td>Chi-squared                              </td></tr>\n",
       "<tr><td>                                                    </td><td>Female               </td><td>       </td><td>22 (14.1)        </td><td>10 (11.4)             </td><td>         </td><td>                                         </td></tr>\n",
       "<tr><td>Height, cm                                          </td><td>                     </td><td>190    </td><td>1.7 (0.1)        </td><td>1.6 (0.1)             </td><td>0.168    </td><td>Two Sample T-test                        </td></tr>\n",
       "<tr><td>Weight, kg                                          </td><td>                     </td><td>220    </td><td>70.4 (17.5)      </td><td>66.0 (14.1)           </td><td>0.045    </td><td>Two Sample T-test                        </td></tr>\n",
       "<tr><td>Body Mass Index                                     </td><td>                     </td><td>193    </td><td>26.2 (6.0)       </td><td>25.0 (4.4)            </td><td>0.121    </td><td>Two Sample T-test                        </td></tr>\n",
       "<tr><td>Diabetes Mellitus/Prediabetes                       </td><td>No                   </td><td>244    </td><td>83 (53.2)        </td><td>44 (50.0)             </td><td>0.728    </td><td>Chi-squared                              </td></tr>\n",
       "<tr><td>                                                    </td><td>Yes                  </td><td>       </td><td>73 (46.8)        </td><td>44 (50.0)             </td><td>         </td><td>                                         </td></tr>\n",
       "<tr><td>Chronic Kidney Disease                              </td><td>No                   </td><td>244    </td><td>139 (89.1)       </td><td>68 (77.3)             </td><td>0.022    </td><td>Chi-squared                              </td></tr>\n",
       "<tr><td>                                                    </td><td>Yes                  </td><td>       </td><td>17 (10.9)        </td><td>20 (22.7)             </td><td>         </td><td>                                         </td></tr>\n",
       "<tr><td>Venous Thromboembolism                              </td><td>No                   </td><td>244    </td><td>155 (99.4)       </td><td>87 (98.9)             </td><td>1.000    </td><td>Fisher's exact                           </td></tr>\n",
       "<tr><td>                                                    </td><td>Yes                  </td><td>       </td><td>1 (0.6)          </td><td>1 (1.1)               </td><td>         </td><td>                                         </td></tr>\n",
       "<tr><td>Cerebrovascular Accident/Transient Ischemic Attack  </td><td>No                   </td><td>244    </td><td>139 (89.1)       </td><td>68 (77.3)             </td><td>0.022    </td><td>Chi-squared                              </td></tr>\n",
       "<tr><td>                                                    </td><td>Yes                  </td><td>       </td><td>17 (10.9)        </td><td>20 (22.7)             </td><td>         </td><td>                                         </td></tr>\n",
       "<tr><td>Heart Failure                                       </td><td>No                   </td><td>244    </td><td>141 (90.4)       </td><td>73 (83.0)             </td><td>0.135    </td><td>Chi-squared                              </td></tr>\n",
       "<tr><td>                                                    </td><td>Yes                  </td><td>       </td><td>15 (9.6)         </td><td>15 (17.0)             </td><td>         </td><td>                                         </td></tr>\n",
       "<tr><td>Post-AMI Atrial Fibrillation                        </td><td>No                   </td><td>244    </td><td>139 (89.1)       </td><td>76 (86.4)             </td><td>0.668    </td><td>Chi-squared                              </td></tr>\n",
       "<tr><td>                                                    </td><td>Yes                  </td><td>       </td><td>17 (10.9)        </td><td>12 (13.6)             </td><td>         </td><td>                                         </td></tr>\n",
       "<tr><td>Post-AMI Cardiogenic Shock                          </td><td>No                   </td><td>244    </td><td>147 (94.2)       </td><td>77 (87.5)             </td><td>0.110    </td><td>Chi-squared                              </td></tr>\n",
       "<tr><td>                                                    </td><td>Yes                  </td><td>       </td><td>9 (5.8)          </td><td>11 (12.5)             </td><td>         </td><td>                                         </td></tr>\n",
       "<tr><td>Cardiopulmonary Resuscitation                       </td><td>No                   </td><td>244    </td><td>153 (98.1)       </td><td>82 (93.2)             </td><td>0.075    </td><td>Fisher's exact                           </td></tr>\n",
       "<tr><td>                                                    </td><td>Yes                  </td><td>       </td><td>3 (1.9)          </td><td>6 (6.8)               </td><td>         </td><td>                                         </td></tr>\n",
       "<tr><td>Peak Troponin I, ng/dL                              </td><td>                     </td><td>238    </td><td>33704.2 (36182.2)</td><td>24641.0 (34477.4)     </td><td>0.057    </td><td>Two Sample T-test                        </td></tr>\n",
       "<tr><td>Hemoglobin, g/dL                                    </td><td>                     </td><td>233    </td><td>14.4 (1.8)       </td><td>13.9 (2.3)            </td><td>0.127    </td><td>Two Sample T-test                        </td></tr>\n",
       "<tr><td>White Blood Cell Count, 10^9/L                      </td><td>                     </td><td>233    </td><td>12.1 (4.2)       </td><td>13.1 (5.0)            </td><td>0.123    </td><td>Two Sample T-test                        </td></tr>\n",
       "<tr><td>Lymphocyte Count, 10^9/L                            </td><td>                     </td><td>185    </td><td>2.5 (1.3)        </td><td>2.0 (1.3)             </td><td>0.025    </td><td>Two Sample T-test                        </td></tr>\n",
       "<tr><td>Neutrophil Count, 10^9/L                            </td><td>                     </td><td>183    </td><td>8.6 (3.7)        </td><td>9.9 (4.3)             </td><td>0.036    </td><td>Two Sample T-test                        </td></tr>\n",
       "<tr><td>Platelet Count, 10^9/dL                             </td><td>                     </td><td>233    </td><td>255.2 (75.1)     </td><td>261.6 (100.9)         </td><td>0.609    </td><td>Two Sample T-test                        </td></tr>\n",
       "<tr><td>Prothrombin Time, seconds                           </td><td>                     </td><td>227    </td><td>13.6 (1.7)       </td><td>14.7 (3.1)            </td><td>0.006    </td><td>Two Sample T-test                        </td></tr>\n",
       "<tr><td>International Normalized Ratio                      </td><td>                     </td><td>228    </td><td>1.1 (0.2)        </td><td>1.2 (0.4)             </td><td>0.009    </td><td>Two Sample T-test                        </td></tr>\n",
       "<tr><td>Activated Partial Thromboplastin Time, seconds      </td><td>                     </td><td>200    </td><td>33.7 (20.4)      </td><td>38.7 (22.0)           </td><td>0.129    </td><td>Two Sample T-test                        </td></tr>\n",
       "<tr><td>Creatinine, mmol/L                                  </td><td>                     </td><td>239    </td><td>96.5 (68.9)      </td><td>136.0 (135.9)         </td><td>0.013    </td><td>Two Sample T-test                        </td></tr>\n",
       "<tr><td>ACS Type                                            </td><td>NSTEMI               </td><td>244    </td><td>31 (19.9)        </td><td>32 (36.4)             </td><td>0.007    </td><td>Chi-squared                              </td></tr>\n",
       "<tr><td>                                                    </td><td>STEMI                </td><td>       </td><td>125 (80.1)       </td><td>56 (63.6)             </td><td>         </td><td>                                         </td></tr>\n",
       "<tr><td>Visual Ejection Fraction, %                         </td><td>                     </td><td>244    </td><td>35.4 (9.7)       </td><td>29.3 (10.8)           </td><td><0.001   </td><td>Two Sample T-test                        </td></tr>\n",
       "<tr><td>Left Ventricle Internal Diameter At End-diastole, mm</td><td>                     </td><td>244    </td><td>53.7 (7.8)       </td><td>54.6 (9.7)            </td><td>0.429    </td><td>Two Sample T-test                        </td></tr>\n",
       "<tr><td>Left Ventricle Internal Diameter At End-systole, mm </td><td>                     </td><td>244    </td><td>42.1 (9.3)       </td><td>45.0 (10.7)           </td><td>0.036    </td><td>Two Sample T-test                        </td></tr>\n",
       "<tr><td>Left Ventricle Outflow Tract, mm                    </td><td>                     </td><td>244    </td><td>21.1 (1.6)       </td><td>20.8 (1.5)            </td><td>0.077    </td><td>Two Sample T-test                        </td></tr>\n",
       "<tr><td>Wall Motion Abnormality                             </td><td>Regional             </td><td>244    </td><td>98 (62.8)        </td><td>29 (33.0)             </td><td><0.001   </td><td>Chi-squared                              </td></tr>\n",
       "<tr><td>                                                    </td><td>Global               </td><td>       </td><td>58 (37.2)        </td><td>59 (67.0)             </td><td>         </td><td>                                         </td></tr>\n",
       "<tr><td>Left Ventricular Aneurysm                           </td><td>No                   </td><td>244    </td><td>139 (89.1)       </td><td>71 (80.7)             </td><td>0.103    </td><td>Chi-squared                              </td></tr>\n",
       "<tr><td>                                                    </td><td>Yes                  </td><td>       </td><td>17 (10.9)        </td><td>17 (19.3)             </td><td>         </td><td>                                         </td></tr>\n",
       "<tr><td>LV Thrombus Mobility                                </td><td>No                   </td><td>244    </td><td>152 (97.4)       </td><td>86 (97.7)             </td><td>1.000    </td><td>Fisher's exact                           </td></tr>\n",
       "<tr><td>                                                    </td><td>Yes                  </td><td>       </td><td>4 (2.6)          </td><td>2 (2.3)               </td><td>         </td><td>                                         </td></tr>\n",
       "<tr><td>Protrusion                                          </td><td>No                   </td><td>244    </td><td>144 (92.3)       </td><td>77 (87.5)             </td><td>0.314    </td><td>Chi-squared                              </td></tr>\n",
       "<tr><td>                                                    </td><td>Yes                  </td><td>       </td><td>12 (7.7)         </td><td>11 (12.5)             </td><td>         </td><td>                                         </td></tr>\n",
       "<tr><td>Aspirin Use                                         </td><td>No                   </td><td>227    </td><td>16 (10.3)        </td><td>10 (14.1)             </td><td>0.539    </td><td>Chi-squared                              </td></tr>\n",
       "<tr><td>                                                    </td><td>Yes                  </td><td>       </td><td>140 (89.7)       </td><td>61 (85.9)             </td><td>         </td><td>                                         </td></tr>\n",
       "<tr><td>Second Antiplatelet Agent                           </td><td>No                   </td><td>227    </td><td>22 (14.1)        </td><td>30 (42.3)             </td><td><0.001   </td><td>Chi-squared                              </td></tr>\n",
       "<tr><td>                                                    </td><td>Yes                  </td><td>       </td><td>134 (85.9)       </td><td>41 (57.7)             </td><td>         </td><td>                                         </td></tr>\n",
       "<tr><td>Coronary Artery Disease                             </td><td>No Vessel Disease    </td><td>205    </td><td>1 (0.7)          </td><td>1 (1.6)               </td><td>0.181    </td><td>Chi-squared (warning: expected count < 5)</td></tr>\n",
       "<tr><td>                                                    </td><td>Single Vessel Disease</td><td>       </td><td>57 (40.1)        </td><td>19 (30.2)             </td><td>         </td><td>                                         </td></tr>\n",
       "<tr><td>                                                    </td><td>Double Vessel Disease</td><td>       </td><td>40 (28.2)        </td><td>14 (22.2)             </td><td>         </td><td>                                         </td></tr>\n",
       "<tr><td>                                                    </td><td>Triple Vessel Disease</td><td>       </td><td>44 (31.0)        </td><td>29 (46.0)             </td><td>         </td><td>                                         </td></tr>\n",
       "<tr><td>Number of Culprit Arteries                          </td><td>0.0                  </td><td>201    </td><td>                 </td><td>1 (1.7)               </td><td>0.070    </td><td>Chi-squared (warning: expected count < 5)</td></tr>\n",
       "<tr><td>                                                    </td><td>1.0                  </td><td>       </td><td>60 (42.6)        </td><td>20 (33.3)             </td><td>         </td><td>                                         </td></tr>\n",
       "<tr><td>                                                    </td><td>2.0                  </td><td>       </td><td>39 (27.7)        </td><td>12 (20.0)             </td><td>         </td><td>                                         </td></tr>\n",
       "<tr><td>                                                    </td><td>3.0                  </td><td>       </td><td>42 (29.8)        </td><td>27 (45.0)             </td><td>         </td><td>                                         </td></tr>\n",
       "<tr><td>Revascularization Procedure                         </td><td>No                   </td><td>244    </td><td>25 (16.0)        </td><td>45 (51.1)             </td><td><0.001   </td><td>Chi-squared                              </td></tr>\n",
       "<tr><td>                                                    </td><td>Yes                  </td><td>       </td><td>131 (84.0)       </td><td>43 (48.9)             </td><td>         </td><td>                                         </td></tr>\n",
       "<tr><td>Followup Duration, days                             </td><td>                     </td><td>244    </td><td>1431.0 (1070.9)  </td><td>672.8 (977.5)         </td><td><0.001   </td><td>Two Sample T-test                        </td></tr>\n",
       "</tbody>\n",
       "</table>"
      ],
      "text/plain": [
       "<IPython.core.display.HTML object>"
      ]
     },
     "execution_count": 3,
     "metadata": {},
     "output_type": "execute_result"
    }
   ],
   "source": [
    "mytable = TableOne(combined, var_list, categorical=cat_features_list, groupby='lvtstatus',order=cat_order,pval=True,remarks=False,reverse_missing=True)\n",
    "HTML(mytable.tabulate(tablefmt=\"html\"))"
   ]
  },
  {
   "cell_type": "code",
   "execution_count": 4,
   "metadata": {},
   "outputs": [],
   "source": [
    "mytable.to_excel('tableone.xlsx')"
   ]
  },
  {
   "cell_type": "code",
   "execution_count": 5,
   "metadata": {},
   "outputs": [
    {
     "name": "stdout",
     "output_type": "stream",
     "text": [
      "All Cases\n",
      "Median: 807.0\n",
      "IQR: 264.75-1746.25\n",
      "Resolved LVT\n",
      "Median: 1049.0\n",
      "IQR: 598.5-2163.5\n",
      "Unresolved LVT/Death\n",
      "Median: 196.5\n",
      "IQR: 15.75-908.25\n"
     ]
    }
   ],
   "source": [
    "for status in ['All Cases','Resolved LVT','Unresolved LVT/Death']:\n",
    "    if status == 'All Cases':\n",
    "        series = combined['Followup Duration, days']\n",
    "    else:\n",
    "        series = combined['Followup Duration, days'][combined['lvtstatus'] == status]\n",
    "    print(status)\n",
    "    print(f'Median: {series.median()}')\n",
    "    print(f'IQR: {series.quantile(0.25)}-{series.quantile(0.75)}')"
   ]
  },
  {
   "cell_type": "code",
   "execution_count": 6,
   "metadata": {},
   "outputs": [],
   "source": [
    "combined = combined.drop('Followup Duration, days',axis=1)\n",
    "combined['lvtstatus'] = combined['lvtstatus'].replace({'Resolved LVT':1,'Unresolved LVT/Death':0})\n",
    "combined['lvtstatus'].to_csv('processed_data/outcome.csv',index=False)\n",
    "predictors = combined.drop('lvtstatus',axis=1)\n",
    "predictors.to_csv('processed_data/predictors.csv',index=False)\n",
    "pd.Series(cat_features_list).to_csv('processed_data/categorical_features.csv',index=False)\n",
    "pd.Series(list(set(list(predictors)) - set(cat_features_list))).to_csv('processed_data/numeric_features.csv',index=False)"
   ]
  }
 ],
 "metadata": {
  "kernelspec": {
   "display_name": "Python 3",
   "language": "python",
   "name": "python3"
  },
  "language_info": {
   "codemirror_mode": {
    "name": "ipython",
    "version": 3
   },
   "file_extension": ".py",
   "mimetype": "text/x-python",
   "name": "python",
   "nbconvert_exporter": "python",
   "pygments_lexer": "ipython3",
   "version": "3.7.6"
  }
 },
 "nbformat": 4,
 "nbformat_minor": 4
}
